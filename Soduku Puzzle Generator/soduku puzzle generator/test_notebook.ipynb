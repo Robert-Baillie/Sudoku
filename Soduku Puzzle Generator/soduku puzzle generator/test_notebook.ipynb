{
 "cells": [
  {
   "cell_type": "code",
   "execution_count": 2,
   "metadata": {},
   "outputs": [],
   "source": [
    "from board.board import Board\n",
    "import numpy as np\n",
    "from construction.number_extractor import Extractor\n",
    "from construction.uniqueness_solver import UniqueSolver\n",
    "\n",
    "board_test = Board()\n"
   ]
  },
  {
   "cell_type": "code",
   "execution_count": 3,
   "metadata": {},
   "outputs": [
    {
     "name": "stdout",
     "output_type": "stream",
     "text": [
      "914|253|678\n",
      "752|186|439\n",
      "386|497|152\n",
      "------------\n",
      "139|824|765\n",
      "247|561|893\n",
      "568|739|241\n",
      "------------\n",
      "495|612|387\n",
      "623|978|514\n",
      "871|345|926\n"
     ]
    }
   ],
   "source": [
    "board_test.print_board()"
   ]
  },
  {
   "cell_type": "code",
   "execution_count": 4,
   "metadata": {},
   "outputs": [
    {
     "ename": "",
     "evalue": "",
     "output_type": "error",
     "traceback": [
      "\u001b[1;31mCanceled future for execute_request message before replies were done"
     ]
    },
    {
     "ename": "",
     "evalue": "",
     "output_type": "error",
     "traceback": [
      "\u001b[1;31mThe Kernel crashed while executing code in the the current cell or a previous cell. Please review the code in the cell(s) to identify a possible cause of the failure. Click <a href='https://aka.ms/vscodeJupyterKernelCrash'>here</a> for more info. View Jupyter <a href='command:jupyter.viewOutput'>log</a> for further details."
     ]
    }
   ],
   "source": [
    "Extractor.remove_numbers_until_non_uniqueness( board_test)"
   ]
  }
 ],
 "metadata": {
  "interpreter": {
   "hash": "60ee3f9c8b7b6f509d3176ca81c97497a70bdd702ca164ddd7db8a4a75387cc0"
  },
  "kernelspec": {
   "display_name": "Python 3.10.4 64-bit",
   "language": "python",
   "name": "python3"
  },
  "language_info": {
   "codemirror_mode": {
    "name": "ipython",
    "version": 3
   },
   "file_extension": ".py",
   "mimetype": "text/x-python",
   "name": "python",
   "nbconvert_exporter": "python",
   "pygments_lexer": "ipython3",
   "version": "3.10.4"
  },
  "orig_nbformat": 4
 },
 "nbformat": 4,
 "nbformat_minor": 2
}
